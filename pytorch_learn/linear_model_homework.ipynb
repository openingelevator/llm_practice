{
 "cells": [
  {
   "cell_type": "code",
   "execution_count": 5,
   "id": "0115a536",
   "metadata": {},
   "outputs": [],
   "source": [
    "import numpy as np\n",
    "import matplotlib.pyplot as plt\n",
    "import matplotlib\n",
    "matplotlib.use('TkAgg')\n",
    "from mpl_toolkits.mplot3d import Axes3D"
   ]
  },
  {
   "cell_type": "code",
   "execution_count": 6,
   "id": "236f2be8",
   "metadata": {},
   "outputs": [],
   "source": [
    "fig = plt.figure()\n",
    "ax = fig.add_subplot(111, projection='3d')\n",
    "# 函数为：y=2*x+1\n",
    "x_data = [1.0, 2.0, 3.0]\n",
    "y_data = [3.0, 5.0, 7.0]"
   ]
  },
  {
   "cell_type": "code",
   "execution_count": 7,
   "id": "91863c57",
   "metadata": {},
   "outputs": [],
   "source": [
    "def forward(x):\n",
    "    return x*w+b\n"
   ]
  },
  {
   "cell_type": "code",
   "execution_count": 8,
   "id": "fba300e4",
   "metadata": {},
   "outputs": [],
   "source": [
    "def loss(x,y):\n",
    "    y_pred=forward(x)\n",
    "    return (y_pred-y)**2"
   ]
  },
  {
   "cell_type": "code",
   "execution_count": 9,
   "id": "bd55d6e8",
   "metadata": {},
   "outputs": [],
   "source": [
    "w_list=[]\n",
    "b_list=[]\n",
    "mse_list=[]\n",
    "\n",
    "for w in np.arange(0.0,4.0,0.1):\n",
    "    for b in np.arange(0.0,4.0,0.1):\n",
    "        l_sum=0\n",
    "        for x, y in zip(x_data,y_data):\n",
    "            y_pred_val = forward(x)\n",
    "            l_val=loss(x,y)\n",
    "            l_sum+=l_val\n",
    "        mse_list.append(l_sum/3)\n",
    "        b_list.append(b)\n",
    "    w_list.append(w)"
   ]
  },
  {
   "cell_type": "code",
   "execution_count": 10,
   "id": "77e1c103",
   "metadata": {},
   "outputs": [
    {
     "data": {
      "text/plain": [
       "<mpl_toolkits.mplot3d.art3d.Poly3DCollection at 0x1889ada9b48>"
      ]
     },
     "execution_count": 10,
     "metadata": {},
     "output_type": "execute_result"
    }
   ],
   "source": [
    "w_r = np.array(w_list)\n",
    "b_r = np.array(b_list)\n",
    "mse_r = np.array(mse_list)\n",
    "\n",
    "b_j = b_r.reshape(40,40)\n",
    "mse_j = np.transpose(mse_r.reshape(40,40))\n",
    "\n",
    "[w,b]=np.meshgrid(w_r,b_j[0])\n",
    "ax.plot_surface(w,b,mse_j)\n"
   ]
  },
  {
   "cell_type": "code",
   "execution_count": null,
   "id": "cbc28ae9",
   "metadata": {},
   "outputs": [],
   "source": [
    "print(plt.show())"
   ]
  },
  {
   "cell_type": "code",
   "execution_count": null,
   "id": "5bd1fa18",
   "metadata": {},
   "outputs": [],
   "source": []
  }
 ],
 "metadata": {
  "kernelspec": {
   "display_name": "pytorch-cpu",
   "language": "python",
   "name": "pytorch"
  },
  "language_info": {
   "codemirror_mode": {
    "name": "ipython",
    "version": 3
   },
   "file_extension": ".py",
   "mimetype": "text/x-python",
   "name": "python",
   "nbconvert_exporter": "python",
   "pygments_lexer": "ipython3",
   "version": "3.7.12"
  }
 },
 "nbformat": 4,
 "nbformat_minor": 5
}
