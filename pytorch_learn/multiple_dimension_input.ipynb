{
 "cells": [
  {
   "cell_type": "code",
   "execution_count": 1,
   "id": "86432fa8",
   "metadata": {},
   "outputs": [],
   "source": [
    "import torch\n",
    "import torch.nn.functional as F\n",
    "import numpy as np\n",
    "import matplotlib.pyplot as plt"
   ]
  },
  {
   "cell_type": "code",
   "execution_count": 2,
   "id": "16579962",
   "metadata": {},
   "outputs": [
    {
     "name": "stdout",
     "output_type": "stream",
     "text": [
      "torch.Size([759, 8])\n",
      "torch.Size([759, 1])\n"
     ]
    }
   ],
   "source": [
    "xy = np.loadtxt('diabetes.csv.gz',delimiter = ',',dtype = np.float32)\n",
    "x_data = torch.from_numpy(xy[:,:-1])\n",
    "y_data = torch.from_numpy(xy[:,[-1]])\n",
    "print(x_data.shape)\n",
    "print(y_data.shape)"
   ]
  },
  {
   "cell_type": "code",
   "execution_count": 7,
   "id": "bdcfb777",
   "metadata": {},
   "outputs": [],
   "source": [
    "class Model(torch.nn.Module):\n",
    "    def __init__(self):\n",
    "        super(Model,self).__init__()\n",
    "        self.linear1 = torch.nn.Linear(8,6)\n",
    "        self.linear2 = torch.nn.Linear(6,4)\n",
    "        self.linear3 = torch.nn.Linear(4,2)\n",
    "        self.linear4 = torch.nn.Linear(2,1)\n",
    "        self.activate = torch.nn.Sigmoid()\n",
    "\n",
    "        \n",
    "    \n",
    "    def forward(self,x):\n",
    "        x = self.activate(self.linear1(x))\n",
    "        x = self.activate(self.linear2(x))\n",
    "        x = self.activate(self.linear3(x))\n",
    "        x = self.activate(self.linear4(x))\n",
    "        return x\n",
    "        \n",
    "\n",
    "model = Model()"
   ]
  },
  {
   "cell_type": "code",
   "execution_count": 8,
   "id": "1ea25873",
   "metadata": {},
   "outputs": [],
   "source": [
    "criterion = torch.nn.BCELoss(reduction='mean')\n",
    "optimizer = torch.optim.SGD(model.parameters(), lr=0.1)\n"
   ]
  },
  {
   "cell_type": "code",
   "execution_count": 9,
   "id": "f2693e59",
   "metadata": {},
   "outputs": [
    {
     "name": "stdout",
     "output_type": "stream",
     "text": [
      "loss =  0.398281991481781 acc =  0.8208168642951251\n",
      "loss =  0.3578207492828369 acc =  0.8353096179183136\n",
      "loss =  0.3400765657424927 acc =  0.841897233201581\n",
      "loss =  0.3149871528148651 acc =  0.849802371541502\n",
      "loss =  0.2960597574710846 acc =  0.857707509881423\n",
      "loss =  0.28078362345695496 acc =  0.849802371541502\n",
      "loss =  0.273898184299469 acc =  0.849802371541502\n",
      "loss =  0.2696007788181305 acc =  0.849802371541502\n",
      "loss =  0.26666685938835144 acc =  0.8563899868247694\n",
      "loss =  0.2645191550254822 acc =  0.8537549407114624\n"
     ]
    }
   ],
   "source": [
    "for epoch in range(1000000):\n",
    "    # Forward\n",
    "    y_pred = model(x_data)\n",
    "    loss = criterion(y_pred, y_data)\n",
    "#     print(epoch, loss.item())\n",
    "    # Backward\n",
    "    optimizer.zero_grad()\n",
    "    loss.backward()\n",
    "    # Update\n",
    "    optimizer.step()\n",
    "    \n",
    "    if epoch%100000 == 99999:\n",
    "        y_pred_label = torch.where(y_pred>=0.5,torch.tensor([1.0]),torch.tensor([0.0]))\n",
    " \n",
    "        acc = torch.eq(y_pred_label, y_data).sum().item()/y_data.size(0)\n",
    "        print(\"loss = \",loss.item(), \"acc = \",acc)\n"
   ]
  },
  {
   "cell_type": "code",
   "execution_count": 10,
   "id": "e69751db",
   "metadata": {},
   "outputs": [
    {
     "name": "stdout",
     "output_type": "stream",
     "text": [
      "layer1_weight tensor([[  1.5315,  -2.9054,   0.9832,  13.2165,  -5.8019,  -4.1752,   4.2835,\n",
      "           6.8319],\n",
      "        [  1.5578,   0.4953,   6.9969,   4.1615,   7.5081,   2.6521,   3.1535,\n",
      "         -13.7232],\n",
      "        [ -2.0595,   4.4404,   2.7186,   0.4345,   4.8302,  -0.7984,   1.5477,\n",
      "           1.8720],\n",
      "        [  5.3574,  10.1631,  -6.7219,   1.2779,   4.3947,   3.5344,   1.9457,\n",
      "           3.4577],\n",
      "        [  2.5558,   0.1324,   0.6737,  -3.2485,  11.2457,   1.0941,  -0.1813,\n",
      "          -6.0049],\n",
      "        [-12.1572,   4.3485,   2.8721,   0.2421,  -2.6667, -14.0853,  -2.4694,\n",
      "           9.3330]])\n",
      "layer1_weight.shape torch.Size([6, 8])\n",
      "layer1_bias tensor([ 3.8377,  6.0871,  3.5901,  4.1349,  1.4983, -1.8340])\n",
      "layer1_bias.shape torch.Size([6])\n"
     ]
    }
   ],
   "source": [
    "layer1_weight = model.linear1.weight.data\n",
    "layer1_bias = model.linear1.bias.data\n",
    "print(\"layer1_weight\", layer1_weight)\n",
    "print(\"layer1_weight.shape\", layer1_weight.shape)\n",
    "print(\"layer1_bias\", layer1_bias)\n",
    "print(\"layer1_bias.shape\", layer1_bias.shape)\n"
   ]
  },
  {
   "cell_type": "code",
   "execution_count": 19,
   "id": "1fdad7e2",
   "metadata": {},
   "outputs": [],
   "source": [
    "class NewModel(torch.nn.Module):\n",
    "    def __init__(self):\n",
    "        super(NewModel,self).__init__()\n",
    "#         self.linear0 = torch.nn.Linear(8,32)\n",
    "        self.linear1 = torch.nn.Linear(8,6)\n",
    "        self.linear2 = torch.nn.Linear(8,4)\n",
    "        self.linear3 = torch.nn.Linear(4,1)\n",
    "        self.activate = torch.nn.Sigmoid()\n",
    "        \n",
    "    def forward(self,x):\n",
    "        x = self.activate(self.linear0(x))\n",
    "        x = self.activate(self.linear1(x))\n",
    "        x = self.activate(self.linear2(x))\n",
    "        x = self.activate(self.linear3(x))\n",
    "        return x\n",
    "\n",
    "\n",
    "model_with_adam =NewModel()\n",
    "new_criterion = torch.nn.BCELoss(reduction='mean')\n",
    "new_optimizer = torch.optim.Adam(model_with_adam.parameters(), lr=0.005)"
   ]
  },
  {
   "cell_type": "code",
   "execution_count": 20,
   "id": "039c86e0",
   "metadata": {},
   "outputs": [
    {
     "name": "stdout",
     "output_type": "stream",
     "text": [
      "loss =  0.2645191550254822 acc =  0.6534914361001317\n",
      "loss =  0.2645191550254822 acc =  0.7654808959156785\n",
      "loss =  0.2645191550254822 acc =  0.7681159420289855\n",
      "loss =  0.2645191550254822 acc =  0.7799736495388669\n",
      "loss =  0.2645191550254822 acc =  0.8036890645586298\n",
      "loss =  0.2645191550254822 acc =  0.8208168642951251\n",
      "loss =  0.2645191550254822 acc =  0.8616600790513834\n",
      "loss =  0.2645191550254822 acc =  0.8801054018445322\n",
      "loss =  0.2645191550254822 acc =  0.8959156785243741\n",
      "loss =  0.2645191550254822 acc =  0.9143610013175231\n",
      "loss =  0.2645191550254822 acc =  0.932806324110672\n",
      "loss =  0.2645191550254822 acc =  0.9472990777338604\n",
      "loss =  0.2645191550254822 acc =  0.9604743083003953\n",
      "loss =  0.2645191550254822 acc =  0.9683794466403162\n",
      "loss =  0.2645191550254822 acc =  0.9736495388669302\n"
     ]
    }
   ],
   "source": [
    "for epoch in range(1500):\n",
    "    # Forward\n",
    "    y_pred = model_with_adam(x_data)\n",
    "    new_loss = new_criterion(y_pred, y_data)\n",
    "#     print(epoch, loss.item())\n",
    "    # Backward\n",
    "    new_optimizer.zero_grad()\n",
    "    new_loss.backward()\n",
    "    # Update\n",
    "    new_optimizer.step()\n",
    "    \n",
    "    if epoch%100 == 99:\n",
    "        y_pred_label = torch.where(y_pred>=0.5,torch.tensor([1.0]),torch.tensor([0.0]))\n",
    " \n",
    "        acc = torch.eq(y_pred_label, y_data).sum().item()/y_data.size(0)\n",
    "        print(\"loss = \",loss.item(), \"acc = \",acc)"
   ]
  },
  {
   "cell_type": "code",
   "execution_count": null,
   "id": "13a9b075",
   "metadata": {},
   "outputs": [],
   "source": []
  }
 ],
 "metadata": {
  "kernelspec": {
   "display_name": "pytorch-cpu",
   "language": "python",
   "name": "pytorch"
  },
  "language_info": {
   "codemirror_mode": {
    "name": "ipython",
    "version": 3
   },
   "file_extension": ".py",
   "mimetype": "text/x-python",
   "name": "python",
   "nbconvert_exporter": "python",
   "pygments_lexer": "ipython3",
   "version": "3.7.12"
  }
 },
 "nbformat": 4,
 "nbformat_minor": 5
}
