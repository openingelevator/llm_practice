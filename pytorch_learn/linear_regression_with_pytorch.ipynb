{
 "cells": [
  {
   "cell_type": "code",
   "execution_count": 1,
   "id": "1ad51549",
   "metadata": {},
   "outputs": [],
   "source": [
    "import torch"
   ]
  },
  {
   "cell_type": "code",
   "execution_count": 2,
   "id": "f9179451",
   "metadata": {},
   "outputs": [],
   "source": [
    "# step1 Prepare Dataset\n",
    "x_data = torch.Tensor([[1.0],[2.0],[3.0]])\n",
    "y_data = torch.Tensor([[2.0],[4.0],[6.0]])\n"
   ]
  },
  {
   "cell_type": "code",
   "execution_count": 3,
   "id": "6362655a",
   "metadata": {},
   "outputs": [],
   "source": [
    "# step2 Design Model\n",
    "class LinearModel(torch.nn.Module):\n",
    "    def __init__(self):\n",
    "        super(LinearModel,self).__init__()\n",
    "        # torch.nn.Linear查询\n",
    "        self.linear = torch.nn.Linear(1,1)\n",
    "    \n",
    "    def forward(self,x):\n",
    "        y_pred = self.linear(x)\n",
    "        return y_pred\n",
    "    \n",
    "model = LinearModel()"
   ]
  },
  {
   "cell_type": "code",
   "execution_count": 8,
   "id": "d5ec5951",
   "metadata": {},
   "outputs": [],
   "source": [
    "# step3 Construct Loss and Optimizer\n",
    "# 使用MSE定义损失函数\n",
    "criterion = torch.nn.MSELoss(size_average=True)\n",
    "# 优化方法使用随机梯度下降\n",
    "optimizer = torch.optim.Adam(model.parameters(),lr=0.01)\n"
   ]
  },
  {
   "cell_type": "code",
   "execution_count": 9,
   "id": "684af58e",
   "metadata": {},
   "outputs": [
    {
     "name": "stdout",
     "output_type": "stream",
     "text": [
      "Epoch 0 0.024315791204571724\n",
      "Epoch 1 0.02305738627910614\n",
      "Epoch 2 0.021931065246462822\n",
      "Epoch 3 0.020816823467612267\n",
      "Epoch 4 0.01977706514298916\n",
      "Epoch 5 0.018732156604528427\n",
      "Epoch 6 0.017701806500554085\n",
      "Epoch 7 0.016721906140446663\n",
      "Epoch 8 0.01577887125313282\n",
      "Epoch 9 0.014854802750051022\n",
      "Epoch 10 0.01396955270320177\n",
      "Epoch 11 0.013125736266374588\n",
      "Epoch 12 0.01230586040765047\n",
      "Epoch 13 0.011510596610605717\n",
      "Epoch 14 0.010752602480351925\n",
      "Epoch 15 0.010031250305473804\n",
      "Epoch 16 0.00933683943003416\n",
      "Epoch 17 0.008672384545207024\n",
      "Epoch 18 0.008044364862143993\n",
      "Epoch 19 0.007447127252817154\n",
      "Epoch 20 0.006875732447952032\n",
      "Epoch 21 0.0063345045782625675\n",
      "Epoch 22 0.0058259558863937855\n",
      "Epoch 23 0.005345011595636606\n",
      "Epoch 24 0.004889982286840677\n",
      "Epoch 25 0.004464343190193176\n",
      "Epoch 26 0.00406651059165597\n",
      "Epoch 27 0.0036923561710864305\n",
      "Epoch 28 0.003342860611155629\n",
      "Epoch 29 0.003019280731678009\n",
      "Epoch 30 0.0027185415383428335\n",
      "Epoch 31 0.0024389370810240507\n",
      "Epoch 32 0.002181736519560218\n",
      "Epoch 33 0.0019455334404483438\n",
      "Epoch 34 0.0017276452854275703\n",
      "Epoch 35 0.001528345630504191\n",
      "Epoch 36 0.0013474231818690896\n",
      "Epoch 37 0.001182466628961265\n",
      "Epoch 38 0.001032716128975153\n",
      "Epoch 39 0.0008982631261460483\n",
      "Epoch 40 0.0007773151737637818\n",
      "Epoch 41 0.0006685521802864969\n",
      "Epoch 42 0.0005720441695302725\n",
      "Epoch 43 0.0004865458467975259\n",
      "Epoch 44 0.00041064698598347604\n",
      "Epoch 45 0.00034422811586409807\n",
      "Epoch 46 0.0002864120760932565\n",
      "Epoch 47 0.00023590424098074436\n",
      "Epoch 48 0.00019245715520810336\n",
      "Epoch 49 0.00015545643691439182\n",
      "Epoch 50 0.00012379525287542492\n",
      "Epoch 51 9.719681838760152e-05\n",
      "Epoch 52 7.518069469369948e-05\n",
      "Epoch 53 5.687520024366677e-05\n",
      "Epoch 54 4.201918272883631e-05\n",
      "Epoch 55 3.0250615964177996e-05\n",
      "Epoch 56 2.0882738681393676e-05\n",
      "Epoch 57 1.3736015716858674e-05\n",
      "Epoch 58 8.508836799592245e-06\n",
      "Epoch 59 4.703244030679343e-06\n",
      "Epoch 60 2.2084475403971737e-06\n",
      "Epoch 61 7.852684120734921e-07\n",
      "Epoch 62 8.901785264470163e-08\n",
      "Epoch 63 7.344378616380709e-08\n",
      "Epoch 64 5.45512193639297e-07\n",
      "Epoch 65 1.2927006309837452e-06\n",
      "Epoch 66 2.312496008016751e-06\n",
      "Epoch 67 3.451134944043588e-06\n",
      "Epoch 68 4.6035188461246435e-06\n",
      "Epoch 69 5.787357167719165e-06\n",
      "Epoch 70 6.8859335442539304e-06\n",
      "Epoch 71 7.876439667597879e-06\n",
      "Epoch 72 8.773632544034626e-06\n",
      "Epoch 73 9.50167031987803e-06\n",
      "Epoch 74 1.008729941531783e-05\n",
      "Epoch 75 1.0534003195061814e-05\n",
      "Epoch 76 1.0806684258568566e-05\n",
      "Epoch 77 1.095263723982498e-05\n",
      "Epoch 78 1.0958715392916929e-05\n",
      "Epoch 79 1.0833199667104054e-05\n",
      "Epoch 80 1.0611420293571427e-05\n",
      "Epoch 81 1.0283082701789681e-05\n",
      "Epoch 82 9.8755217550206e-06\n",
      "Epoch 83 9.407794095750432e-06\n",
      "Epoch 84 8.878406333678868e-06\n",
      "Epoch 85 8.318835170939565e-06\n",
      "Epoch 86 7.7316844908637e-06\n",
      "Epoch 87 7.125916454242542e-06\n",
      "Epoch 88 6.524144282593625e-06\n",
      "Epoch 89 5.921852789469995e-06\n",
      "Epoch 90 5.336428785085445e-06\n",
      "Epoch 91 4.772307420353172e-06\n",
      "Epoch 92 4.230814738548361e-06\n",
      "Epoch 93 3.7239460652926937e-06\n",
      "Epoch 94 3.247326048949617e-06\n",
      "Epoch 95 2.8066478989785537e-06\n",
      "Epoch 96 2.404369979558396e-06\n",
      "Epoch 97 2.03748663807346e-06\n",
      "Epoch 98 1.7102283891290426e-06\n",
      "Epoch 99 1.4176642935126438e-06\n"
     ]
    }
   ],
   "source": [
    "# step4 Training Cycle\n",
    "for epoch in range(100):\n",
    "    # 前向传播\n",
    "    y_pred = model(x_data)\n",
    "    # 计算损失\n",
    "    loss = criterion(y_pred,y_data)\n",
    "    print(\"Epoch\",epoch,loss.item())\n",
    "    \n",
    "     # 梯度清零\n",
    "    optimizer.zero_grad()\n",
    "    # 反向传播\n",
    "    loss.backward()\n",
    "    # 随机梯度下降\n",
    "    optimizer.step()\n",
    "    "
   ]
  },
  {
   "cell_type": "code",
   "execution_count": 10,
   "id": "963624b9",
   "metadata": {},
   "outputs": [
    {
     "name": "stdout",
     "output_type": "stream",
     "text": [
      "w= 2.0012199878692627\n",
      "b= -0.0028499471955001354\n",
      "y_pred= 8.002030372619629\n"
     ]
    }
   ],
   "source": [
    "# Step5 Test Model\n",
    "# output weight and bias\n",
    "print(\"w=\",model.linear.weight.item())\n",
    "print(\"b=\",model.linear.bias.item())\n",
    "\n",
    "# 预测\n",
    "x_test = torch.Tensor([4.0])\n",
    "y_test = model(x_test)\n",
    "print(\"y_pred=\",y_test.item())"
   ]
  },
  {
   "cell_type": "code",
   "execution_count": null,
   "id": "349be003",
   "metadata": {},
   "outputs": [],
   "source": []
  }
 ],
 "metadata": {
  "kernelspec": {
   "display_name": "pytorch-cpu",
   "language": "python",
   "name": "pytorch"
  },
  "language_info": {
   "codemirror_mode": {
    "name": "ipython",
    "version": 3
   },
   "file_extension": ".py",
   "mimetype": "text/x-python",
   "name": "python",
   "nbconvert_exporter": "python",
   "pygments_lexer": "ipython3",
   "version": "3.7.12"
  }
 },
 "nbformat": 4,
 "nbformat_minor": 5
}
