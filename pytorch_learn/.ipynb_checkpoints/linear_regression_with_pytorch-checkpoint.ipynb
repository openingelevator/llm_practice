{
 "cells": [
  {
   "cell_type": "code",
   "execution_count": 1,
   "id": "6dbf12d7",
   "metadata": {},
   "outputs": [],
   "source": [
    "import torch"
   ]
  },
  {
   "cell_type": "code",
   "execution_count": 2,
   "id": "0d4ada4c",
   "metadata": {},
   "outputs": [],
   "source": [
    "# step1 Prepare Dataset\n",
    "x_data = torch.Tensor([[1.0],[2.0],[3.0]])\n",
    "y_data = torch.Tensor([[2.0],[4.0],[6.0]])\n"
   ]
  },
  {
   "cell_type": "code",
   "execution_count": 3,
   "id": "8b810ed8",
   "metadata": {},
   "outputs": [],
   "source": [
    "# step2 Design Model\n",
    "class LinearModel(torch.nn.Module):\n",
    "    def __init__(self):\n",
    "        super(LinearModel,self).__init__()\n",
    "        # torch.nn.Linear查询\n",
    "        \n",
    "        self.linear = torch.nn.Linear(1,1)\n",
    "    \n",
    "    def forward(self,x):\n",
    "        y_pred = self.linear(x)\n",
    "        return y_pred\n",
    "    \n",
    "model = LinearModel()"
   ]
  },
  {
   "cell_type": "code",
   "execution_count": 4,
   "id": "0624e50f",
   "metadata": {},
   "outputs": [
    {
     "name": "stderr",
     "output_type": "stream",
     "text": [
      "D:\\application\\Anaconda\\envs\\pytorch\\lib\\site-packages\\torch\\nn\\_reduction.py:42: UserWarning: size_average and reduce args will be deprecated, please use reduction='mean' instead.\n",
      "  warnings.warn(warning.format(ret))\n"
     ]
    }
   ],
   "source": [
    "# step3 Construct Loss and Optimizer\n",
    "# 使用MSE定义损失函数\n",
    "criterion = torch.nn.MSELoss(size_average=True)\n",
    "# 优化方法使用随机梯度下降\n",
    "optimizer = torch.optim.SGD(model.parameters(),lr=0.01)\n"
   ]
  },
  {
   "cell_type": "code",
   "execution_count": 5,
   "id": "b342ad2e",
   "metadata": {},
   "outputs": [
    {
     "name": "stdout",
     "output_type": "stream",
     "text": [
      "Epoch 0 8.748055458068848\n",
      "Epoch 1 6.927907943725586\n",
      "Epoch 2 5.489116668701172\n",
      "Epoch 3 4.351767063140869\n",
      "Epoch 4 3.4526901245117188\n",
      "Epoch 5 2.741956949234009\n",
      "Epoch 6 2.180098295211792\n",
      "Epoch 7 1.735918641090393\n",
      "Epoch 8 1.3847565650939941\n",
      "Epoch 9 1.107121467590332\n",
      "Epoch 10 0.8876062035560608\n",
      "Epoch 11 0.7140307426452637\n",
      "Epoch 12 0.5767693519592285\n",
      "Epoch 13 0.4682125151157379\n",
      "Epoch 14 0.38234400749206543\n",
      "Epoch 15 0.31441107392311096\n",
      "Epoch 16 0.26065537333488464\n",
      "Epoch 17 0.21810607612133026\n",
      "Epoch 18 0.1844150573015213\n",
      "Epoch 19 0.15772666037082672\n",
      "Epoch 20 0.13657337427139282\n",
      "Epoch 21 0.11979576200246811\n",
      "Epoch 22 0.10647686570882797\n",
      "Epoch 23 0.09589240700006485\n",
      "Epoch 24 0.08746978640556335\n",
      "Epoch 25 0.0807560607790947\n",
      "Epoch 26 0.07539331167936325\n",
      "Epoch 27 0.07109891623258591\n",
      "Epoch 28 0.06764931231737137\n",
      "Epoch 29 0.06486748903989792\n",
      "Epoch 30 0.06261392682790756\n",
      "Epoch 31 0.06077808141708374\n",
      "Epoch 32 0.05927273631095886\n",
      "Epoch 33 0.058029044419527054\n",
      "Epoch 34 0.05699218809604645\n",
      "Epoch 35 0.05611925199627876\n",
      "Epoch 36 0.055376023054122925\n",
      "Epoch 37 0.054735589772462845\n",
      "Epoch 38 0.05417690798640251\n",
      "Epoch 39 0.05368267372250557\n",
      "Epoch 40 0.05324004590511322\n",
      "Epoch 41 0.05283823981881142\n",
      "Epoch 42 0.052468907088041306\n",
      "Epoch 43 0.05212556943297386\n",
      "Epoch 44 0.051803108304739\n",
      "Epoch 45 0.051497284322977066\n",
      "Epoch 46 0.05120491608977318\n",
      "Epoch 47 0.05092335864901543\n",
      "Epoch 48 0.05065065622329712\n",
      "Epoch 49 0.050385136157274246\n",
      "Epoch 50 0.05012553930282593\n",
      "Epoch 51 0.04987092688679695\n",
      "Epoch 52 0.04962046071887016\n",
      "Epoch 53 0.04937343671917915\n",
      "Epoch 54 0.049129512161016464\n",
      "Epoch 55 0.04888814687728882\n",
      "Epoch 56 0.0486491322517395\n",
      "Epoch 57 0.04841203615069389\n",
      "Epoch 58 0.04817686975002289\n",
      "Epoch 59 0.04794347658753395\n",
      "Epoch 60 0.047711510211229324\n",
      "Epoch 61 0.04748113080859184\n",
      "Epoch 62 0.04725204035639763\n",
      "Epoch 63 0.04702429845929146\n",
      "Epoch 64 0.04679790139198303\n",
      "Epoch 65 0.04657258093357086\n",
      "Epoch 66 0.046348560601472855\n",
      "Epoch 67 0.046125661581754684\n",
      "Epoch 68 0.04590389132499695\n",
      "Epoch 69 0.04568322002887726\n",
      "Epoch 70 0.04546375200152397\n",
      "Epoch 71 0.04524526372551918\n",
      "Epoch 72 0.04502788186073303\n",
      "Epoch 73 0.04481153562664986\n",
      "Epoch 74 0.044596362859010696\n",
      "Epoch 75 0.04438210651278496\n",
      "Epoch 76 0.04416902735829353\n",
      "Epoch 77 0.04395683482289314\n",
      "Epoch 78 0.0437457449734211\n",
      "Epoch 79 0.04353557527065277\n",
      "Epoch 80 0.043326590210199356\n",
      "Epoch 81 0.043118540197610855\n",
      "Epoch 82 0.04291145130991936\n",
      "Epoch 83 0.04270537570118904\n",
      "Epoch 84 0.04250020161271095\n",
      "Epoch 85 0.0422961562871933\n",
      "Epoch 86 0.04209311306476593\n",
      "Epoch 87 0.041890949010849\n",
      "Epoch 88 0.041689787060022354\n",
      "Epoch 89 0.04148958995938301\n",
      "Epoch 90 0.041290342807769775\n",
      "Epoch 91 0.04109198600053787\n",
      "Epoch 92 0.040894728153944016\n",
      "Epoch 93 0.0406983382999897\n",
      "Epoch 94 0.04050286114215851\n",
      "Epoch 95 0.0403083898127079\n",
      "Epoch 96 0.040114875882864\n",
      "Epoch 97 0.03992219641804695\n",
      "Epoch 98 0.0397304967045784\n",
      "Epoch 99 0.03953970596194267\n"
     ]
    }
   ],
   "source": [
    "# step4 Training Cycle\n",
    "for epoch in range(100):\n",
    "    # 前向传播\n",
    "    y_pred = model(x_data)\n",
    "    # 计算损失\n",
    "    loss = criterion(y_pred,y_data)\n",
    "    print(\"Epoch\",epoch,loss.item())\n",
    "    \n",
    "     # 梯度清零\n",
    "    optimizer.zero_grad()\n",
    "    # 反向传播\n",
    "    loss.backward()\n",
    "    # 随机梯度下降\n",
    "    optimizer.step()\n",
    "    "
   ]
  },
  {
   "cell_type": "code",
   "execution_count": null,
   "id": "39223649",
   "metadata": {},
   "outputs": [],
   "source": []
  }
 ],
 "metadata": {
  "kernelspec": {
   "display_name": "pytorch-cpu",
   "language": "python",
   "name": "pytorch"
  },
  "language_info": {
   "codemirror_mode": {
    "name": "ipython",
    "version": 3
   },
   "file_extension": ".py",
   "mimetype": "text/x-python",
   "name": "python",
   "nbconvert_exporter": "python",
   "pygments_lexer": "ipython3",
   "version": "3.7.12"
  }
 },
 "nbformat": 4,
 "nbformat_minor": 5
}
