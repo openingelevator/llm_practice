{
 "cells": [
  {
   "cell_type": "markdown",
   "id": "a2bce6fe",
   "metadata": {},
   "source": [
    "### VGG网络搭建\n",
    "在基础的CNN网络结构中，卷积层、池化层以及全连接层之间是串行结构，网络的结构相对简单，在面对更复杂的问题时泛化能力不足。\n",
    "<img src=\"./Image/basic_cnn.jpg\" alt=\"基础CNN网络\" width=\"70%\">\n",
    "    \n",
    "    \n",
    "VGG网络引入了更深层次的卷积神经网络结构，将包含多个不同大小、不同数量的卷积层使用并行的结构分别提取特征，使用concatenate将特征进行汇聚，封装为Inception层再进行连接，从而能够学习到更加复杂的图像特征。\n",
    "<img src=\"./Image/VGG_network.jpg\" alt=\"VGG网络结构\" width=\"70%\">\n",
    "\n",
    "以下是Inception模块的基本结构。\n",
    "<img src=\"./Image/Inception.jpg\" alt=\"Inception模块\" width=\"50%\">\n",
    "关于1x1卷积核的作用，考虑以下场景。\n",
    "我们要将192x28x28的数据，处理成32x28x28的数据\n",
    "1. 若使用5x5的卷积核，一共要进行5x5x28x28x192x32=120,422,400次浮点运算（padding=1）。\n",
    "2. 若使用1x1的卷积核，考虑以下路径192x28x28->16x28x28->32x28x28，则一共进行1x1x28x28x192x16+1x1x28x28x16x32=12,433,648次运算。\n",
    "使用1x1的卷积核可以降低浮点数计算的次数，同时ba"
   ]
  },
  {
   "cell_type": "code",
   "execution_count": 1,
   "id": "43f77fe2",
   "metadata": {},
   "outputs": [],
   "source": [
    "# 接下来开始构建Inception模块\n",
    "# 先引入必要的包\n",
    "import torch.nn as nn\n",
    "import torch\n",
    "from torchvision import transforms\n",
    "from torch.utils.data import DataLoader,Dataset\n",
    "import torch.nn.functional as F\n",
    "import torch.optim as optim\n",
    "import os\n",
    "import gzip\n",
    "import numpy as np"
   ]
  },
  {
   "cell_type": "code",
   "execution_count": 2,
   "id": "1c8f7823",
   "metadata": {},
   "outputs": [],
   "source": [
    "class InceptionA(nn.Module):\n",
    "    def __init__(self, in_channels):\n",
    "        super(InceptionA,self).__init__()\n",
    "        # 构建卷积层\n",
    "        self.branch1x1 = nn.Conv2d(in_channels, 16, kernel_size=1)\n",
    "        # 为了保证不同分支连接时，图片的尺寸大小一致，在进行3x3卷积操作时需要设置padding=1保证输出图片的大小与原图片一致\n",
    "        # 同理，进行5x5卷积操作时也需要设置padding=2\n",
    "        self.branch3x3_1 = nn.Conv2d(in_channels, 16, kernel_size=1)\n",
    "        self.branch3x3_2 = nn.Conv2d(16, 24, kernel_size=3, padding=1)\n",
    "        self.branch3x3_3 = nn.Conv2d(24, 24, kernel_size=3, padding=1)\n",
    "        \n",
    "        self.branch5x5_1 = nn.Conv2d(in_channels, 16, kernel_size=1)\n",
    "        self.branch5x5_2 = nn.Conv2d(16, 24, kernel_size=5, padding=2)\n",
    "        \n",
    "        self.branch_pool = nn.Conv2d(in_channels, 24, kernel_size=1)\n",
    "        \n",
    "    \n",
    "    def forward(self, x):\n",
    "        branch1x1 = self.branch1x1(x)\n",
    "        \n",
    "        branch3x3 = self.branch3x3_1(x)\n",
    "        branch3x3 = self.branch3x3_2(branch3x3)\n",
    "        branch3x3 = self.branch3x3_3(branch3x3)\n",
    "        \n",
    "        branch5x5 = self.branch5x5_1(x)\n",
    "        branch5x5 = self.branch5x5_2(branch5x5)\n",
    "        \n",
    "        branch_pool = F.avg_pool2d(x, kernel_size=3, stride=1, padding=1)\n",
    "        branch_pool = self.branch_pool(branch_pool)\n",
    "        \n",
    "        outputs = [branch1x1, branch5x5, branch3x3, branch_pool]\n",
    "        # 在pytorch当中，输入数据的格式一般为batch×channel×width×height\n",
    "        # dim=1意味着在第二个维度上进行拼接，也就是在channel维度上进行拼接，形成一个新的输入通道的批数据\n",
    "        return torch.cat(outputs, dim=1)"
   ]
  },
  {
   "cell_type": "code",
   "execution_count": 3,
   "id": "b8bb42c6",
   "metadata": {},
   "outputs": [],
   "source": [
    "# 构建VGG网络\n",
    "class VGGNet(nn.Module):\n",
    "    def __init__(self):\n",
    "        super(VGGNet, self).__init__()\n",
    "        self.conv1 = nn.Conv2d(1, 10, kernel_size=5)\n",
    "        self.conv2 = nn.Conv2d(88, 20, kernel_size=5)\n",
    "        \n",
    "        self.incep1 = InceptionA(in_channels=10)\n",
    "        self.incep2 = InceptionA(in_channels=20)\n",
    "        \n",
    "        self.mp = nn.MaxPool2d(2)\n",
    "        self.fc = nn.Linear(1408, 10)\n",
    "        \n",
    "        \n",
    "    def forward(self, x):\n",
    "        in_size = x.size(0)\n",
    "#         print(in_size)\n",
    "        x = F.relu(self.mp(self.conv1(x)))\n",
    "        x = self.incep1(x)\n",
    "        x = F.relu(self.mp(self.conv2(x)))\n",
    "        x = self.incep2(x)\n",
    "        \n",
    "        x = x.view(in_size,-1)\n",
    "        x = self.fc(x)\n",
    "        return x"
   ]
  },
  {
   "cell_type": "code",
   "execution_count": 4,
   "id": "de14caee",
   "metadata": {},
   "outputs": [],
   "source": [
    "# 构建数据集\n",
    "class MNISTDataset(Dataset):\n",
    "    def __init__(self, root, train=True, transform=None):\n",
    "        self.root = root\n",
    "        self.train = train\n",
    "        self.transform = transform\n",
    "\n",
    "        if self.train:\n",
    "            images_file = 'train-images-idx3-ubyte.gz'\n",
    "            labels_file = 'train-labels-idx1-ubyte.gz'\n",
    "        else:\n",
    "            images_file = 't10k-images-idx3-ubyte.gz'\n",
    "            labels_file = 't10k-labels-idx1-ubyte.gz'\n",
    "\n",
    "        self.images_path = os.path.join(root, images_file)\n",
    "        self.labels_path = os.path.join(root, labels_file)\n",
    "\n",
    "        self.images, self.labels = self.load_data()\n",
    "\n",
    "    def __len__(self):\n",
    "        return len(self.images)\n",
    "\n",
    "    def __getitem__(self, idx):\n",
    "        image = self.images[idx]\n",
    "        label = int(self.labels[idx])\n",
    "\n",
    "        if self.transform:\n",
    "            image = self.transform(image)\n",
    "\n",
    "        return image, label\n",
    "\n",
    "    def load_data(self):\n",
    "        with gzip.open(self.images_path, 'rb') as f_images:\n",
    "            images = np.frombuffer(f_images.read(), dtype=np.uint8, offset=16).reshape(-1, 28, 28)\n",
    "\n",
    "        with gzip.open(self.labels_path, 'rb') as f_labels:\n",
    "            labels = np.frombuffer(f_labels.read(), dtype=np.uint8, offset=8)\n",
    "\n",
    "        return images, labels"
   ]
  },
  {
   "cell_type": "code",
   "execution_count": 5,
   "id": "9b35f6c8",
   "metadata": {},
   "outputs": [],
   "source": [
    "batch_size = 64\n",
    "transform = transforms.Compose([\n",
    "transforms.ToTensor(),\n",
    "transforms.Normalize((0.1307, ), (0.3081, ))\n",
    "])"
   ]
  },
  {
   "cell_type": "code",
   "execution_count": 6,
   "id": "a1abb8ec",
   "metadata": {},
   "outputs": [
    {
     "name": "stdout",
     "output_type": "stream",
     "text": [
      "10000\n",
      "60000\n"
     ]
    }
   ],
   "source": [
    "train_dataset = MNISTDataset(root='./mnist_dataset/', train=True, transform=transform)\n",
    "train_loader =  DataLoader(train_dataset,shuffle=True,batch_size=batch_size)\n",
    "\n",
    "test_dataset = MNISTDataset(root='./mnist_dataset/', train=False, transform=transform)\n",
    "test_loader =  DataLoader(test_dataset,shuffle=False,batch_size=batch_size)\n",
    "print(test_dataset.__len__())\n",
    "print(train_dataset.__len__())"
   ]
  },
  {
   "cell_type": "code",
   "execution_count": 7,
   "id": "9b929708",
   "metadata": {},
   "outputs": [
    {
     "data": {
      "text/plain": [
       "VGGNet(\n",
       "  (conv1): Conv2d(1, 10, kernel_size=(5, 5), stride=(1, 1))\n",
       "  (conv2): Conv2d(88, 20, kernel_size=(5, 5), stride=(1, 1))\n",
       "  (incep1): InceptionA(\n",
       "    (branch1x1): Conv2d(10, 16, kernel_size=(1, 1), stride=(1, 1))\n",
       "    (branch3x3_1): Conv2d(10, 16, kernel_size=(1, 1), stride=(1, 1))\n",
       "    (branch3x3_2): Conv2d(16, 24, kernel_size=(3, 3), stride=(1, 1), padding=(1, 1))\n",
       "    (branch3x3_3): Conv2d(24, 24, kernel_size=(3, 3), stride=(1, 1), padding=(1, 1))\n",
       "    (branch5x5_1): Conv2d(10, 16, kernel_size=(1, 1), stride=(1, 1))\n",
       "    (branch5x5_2): Conv2d(16, 24, kernel_size=(5, 5), stride=(1, 1), padding=(2, 2))\n",
       "    (branch_pool): Conv2d(10, 24, kernel_size=(1, 1), stride=(1, 1))\n",
       "  )\n",
       "  (incep2): InceptionA(\n",
       "    (branch1x1): Conv2d(20, 16, kernel_size=(1, 1), stride=(1, 1))\n",
       "    (branch3x3_1): Conv2d(20, 16, kernel_size=(1, 1), stride=(1, 1))\n",
       "    (branch3x3_2): Conv2d(16, 24, kernel_size=(3, 3), stride=(1, 1), padding=(1, 1))\n",
       "    (branch3x3_3): Conv2d(24, 24, kernel_size=(3, 3), stride=(1, 1), padding=(1, 1))\n",
       "    (branch5x5_1): Conv2d(20, 16, kernel_size=(1, 1), stride=(1, 1))\n",
       "    (branch5x5_2): Conv2d(16, 24, kernel_size=(5, 5), stride=(1, 1), padding=(2, 2))\n",
       "    (branch_pool): Conv2d(20, 24, kernel_size=(1, 1), stride=(1, 1))\n",
       "  )\n",
       "  (mp): MaxPool2d(kernel_size=2, stride=2, padding=0, dilation=1, ceil_mode=False)\n",
       "  (fc): Linear(in_features=1408, out_features=10, bias=True)\n",
       ")"
      ]
     },
     "execution_count": 7,
     "metadata": {},
     "output_type": "execute_result"
    }
   ],
   "source": [
    "model = VGGNet()\n",
    "device = torch.device(\"cuda:0\" if torch.cuda.is_available() else \"cpu\")\n",
    "model.to(device)"
   ]
  },
  {
   "cell_type": "code",
   "execution_count": 8,
   "id": "b8792372",
   "metadata": {},
   "outputs": [],
   "source": [
    "# construct loss and optimizer\n",
    "criterion = torch.nn.CrossEntropyLoss()\n",
    "optimizer = optim.SGD(model.parameters(), lr=0.01, momentum=0.5)"
   ]
  },
  {
   "cell_type": "code",
   "execution_count": 9,
   "id": "00f67db9",
   "metadata": {},
   "outputs": [],
   "source": [
    "def train(epoch):\n",
    "    running_loss = 0.0\n",
    "    for batch_idx, data in enumerate(train_loader,0):\n",
    "        inputs, target = data\n",
    "        inputs, target = inputs.to(device), target.to(device)\n",
    "        \n",
    "        optimizer.zero_grad()\n",
    "        \n",
    "        outputs = model(inputs)\n",
    "        loss = criterion(outputs,target)\n",
    "        loss.backward()\n",
    "        optimizer.step()\n",
    "        \n",
    "        running_loss += loss.item()\n",
    "        \n",
    "        if batch_idx%300 == 299:\n",
    "            print('[%d, %5d] loss: %.3f' % (epoch + 1, batch_idx + 1, running_loss / 300))\n",
    "            running_loss = 0.0"
   ]
  },
  {
   "cell_type": "code",
   "execution_count": 10,
   "id": "73f40531",
   "metadata": {},
   "outputs": [],
   "source": [
    "def test():\n",
    "    correct = 0\n",
    "    total = 0\n",
    "    with torch.no_grad():\n",
    "        for data in test_loader:\n",
    "            images, labels = data\n",
    "            images, labels = images.to(device), labels.to(device)\n",
    "            \n",
    "            outputs = model(images)\n",
    "            _, predicted = torch.max(outputs.data, dim=1)\n",
    "            total += labels.size(0)\n",
    "            correct += (predicted == labels).sum().item()\n",
    "    print('accuracy on test set: %d %% ' % (100*correct/total))\n",
    "    return correct/total"
   ]
  },
  {
   "cell_type": "code",
   "execution_count": 11,
   "id": "33495526",
   "metadata": {},
   "outputs": [
    {
     "name": "stderr",
     "output_type": "stream",
     "text": [
      "D:\\application\\Anaconda\\envs\\pytorch-gpu\\lib\\site-packages\\torchvision\\transforms\\functional.py:152: UserWarning: The given NumPy array is not writable, and PyTorch does not support non-writable tensors. This means writing to this tensor will result in undefined behavior. You may want to copy the array to protect its data or make it writable before converting it to a tensor. This type of warning will be suppressed for the rest of this program. (Triggered internally at C:\\actions-runner\\_work\\pytorch\\pytorch\\builder\\windows\\pytorch\\torch\\csrc\\utils\\tensor_numpy.cpp:212.)\n",
      "  img = torch.from_numpy(pic.transpose((2, 0, 1))).contiguous()\n"
     ]
    },
    {
     "name": "stdout",
     "output_type": "stream",
     "text": [
      "[1,   300] loss: 0.918\n",
      "[1,   600] loss: 0.195\n",
      "[1,   900] loss: 0.144\n",
      "accuracy on test set: 97 % \n",
      "[2,   300] loss: 0.112\n",
      "[2,   600] loss: 0.096\n",
      "[2,   900] loss: 0.081\n",
      "accuracy on test set: 97 % \n",
      "[3,   300] loss: 0.079\n",
      "[3,   600] loss: 0.073\n",
      "[3,   900] loss: 0.071\n",
      "accuracy on test set: 98 % \n",
      "[4,   300] loss: 0.065\n",
      "[4,   600] loss: 0.062\n",
      "[4,   900] loss: 0.063\n",
      "accuracy on test set: 98 % \n",
      "[5,   300] loss: 0.058\n",
      "[5,   600] loss: 0.057\n",
      "[5,   900] loss: 0.052\n",
      "accuracy on test set: 98 % \n",
      "[6,   300] loss: 0.047\n",
      "[6,   600] loss: 0.051\n",
      "[6,   900] loss: 0.049\n",
      "accuracy on test set: 98 % \n",
      "[7,   300] loss: 0.044\n",
      "[7,   600] loss: 0.046\n",
      "[7,   900] loss: 0.044\n",
      "accuracy on test set: 98 % \n",
      "[8,   300] loss: 0.042\n",
      "[8,   600] loss: 0.041\n",
      "[8,   900] loss: 0.040\n",
      "accuracy on test set: 98 % \n",
      "[9,   300] loss: 0.034\n",
      "[9,   600] loss: 0.041\n",
      "[9,   900] loss: 0.039\n",
      "accuracy on test set: 98 % \n",
      "[10,   300] loss: 0.035\n",
      "[10,   600] loss: 0.035\n",
      "[10,   900] loss: 0.036\n",
      "accuracy on test set: 98 % \n"
     ]
    },
    {
     "data": {
      "image/png": "[encoded data removed]",
      "text/plain": [
       "<Figure size 640x480 with 1 Axes>"
      ]
     },
     "metadata": {},
     "output_type": "display_data"
    }
   ],
   "source": [
    "import matplotlib.pyplot as plt\n",
    "\n",
    "if __name__ == '__main__':\n",
    "    epoch_list = []\n",
    "    acc_list = []\n",
    "    \n",
    "    for epoch in range(10):\n",
    "        train(epoch)\n",
    "        acc = test()\n",
    "        epoch_list.append(epoch)\n",
    "        acc_list.append(acc)\n",
    "    \n",
    "    plt.plot(epoch_list,acc_list)\n",
    "    plt.ylabel('accuracy')\n",
    "    plt.xlabel('epoch')\n",
    "    plt.show()"
   ]
  },
  {
   "cell_type": "code",
   "execution_count": null,
   "id": "146b40fd",
   "metadata": {},
   "outputs": [],
   "source": []
  }
 ],
 "metadata": {
  "kernelspec": {
   "display_name": "pytorch=gpu",
   "language": "python",
   "name": "pytorch-gpu"
  },
  "language_info": {
   "codemirror_mode": {
    "name": "ipython",
    "version": 3
   },
   "file_extension": ".py",
   "mimetype": "text/x-python",
   "name": "python",
   "nbconvert_exporter": "python",
   "pygments_lexer": "ipython3",
   "version": "3.9.18"
  }
 },
 "nbformat": 4,
 "nbformat_minor": 5
}
