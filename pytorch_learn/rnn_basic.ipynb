{
 "cells": [
  {
   "cell_type": "code",
   "execution_count": 1,
   "id": "f173fb71",
   "metadata": {},
   "outputs": [
    {
     "name": "stdout",
     "output_type": "stream",
     "text": [
      "==================== 0 ====================\n",
      "input size: torch.Size([1, 4])\n",
      "output size: torch.Size([1, 2])\n",
      "tensor([[-0.8730,  0.2915]], grad_fn=<TanhBackward0>)\n",
      "==================== 1 ====================\n",
      "input size: torch.Size([1, 4])\n",
      "output size: torch.Size([1, 2])\n",
      "tensor([[-0.9684,  0.7902]], grad_fn=<TanhBackward0>)\n",
      "==================== 2 ====================\n",
      "input size: torch.Size([1, 4])\n",
      "output size: torch.Size([1, 2])\n",
      "tensor([[-0.9559,  0.4415]], grad_fn=<TanhBackward0>)\n"
     ]
    }
   ],
   "source": [
    "# import torch\n",
    "\n",
    "# batch_size=1\n",
    "# seq_len=3\n",
    "# input_size=4\n",
    "# hidden_size=2\n",
    "\n",
    "# cell=torch.nn.RNNCell(input_size=input_size, hidden_size=hidden_size)\n",
    "\n",
    "# dataset=torch.randn(seq_len,batch_size,input_size)\n",
    "# hidden=torch.zeros(batch_size,hidden_size)\n",
    "\n",
    "# for idx,x_input in enumerate(dataset):\n",
    "#     print(\"=\"*20,idx,\"=\"*20)\n",
    "#     print(\"input size:\",x_input.shape)\n",
    "    \n",
    "#     hidden=cell(x_input,hidden)\n",
    "    \n",
    "#     print(\"output size:\",hidden.shape)\n",
    "#     print(hidden)\n",
    "    "
   ]
  },
  {
   "cell_type": "code",
   "execution_count": 2,
   "id": "f368e7e6",
   "metadata": {},
   "outputs": [
    {
     "name": "stdout",
     "output_type": "stream",
     "text": [
      "output size: torch.Size([3, 1, 2])\n",
      "output tensor([[[ 0.6526,  0.7850]],\n",
      "\n",
      "        [[-0.9475, -0.3880]],\n",
      "\n",
      "        [[-0.3591, -0.2576]]], grad_fn=<StackBackward0>)\n",
      "hidden size torch.Size([1, 1, 2])\n",
      "hidden tensor([[[-0.3591, -0.2576]]], grad_fn=<StackBackward0>)\n"
     ]
    }
   ],
   "source": [
    "# import torch\n",
    "\n",
    "# batch_size=1\n",
    "# seq_len=3\n",
    "# input_size=4\n",
    "# hidden_size=2\n",
    "# num_laryers=1\n",
    "\n",
    "# cell=torch.nn.RNN(input_size=input_size,hidden_size=hidden_size,num_layers=num_laryers)\n",
    "\n",
    "# inputs=torch.randn(seq_len,batch_size,input_size)\n",
    "# hidden=torch.zeros(num_laryers,batch_size,hidden_size)\n",
    "\n",
    "# out,hidden=cell(inputs,hidden)\n",
    "\n",
    "# print(\"output size:\",out.shape)\n",
    "# print(\"output\",out)\n",
    "# print(\"hidden size\",hidden.shape)\n",
    "# print(\"hidden\",hidden)\n"
   ]
  },
  {
   "cell_type": "code",
   "execution_count": 1,
   "id": "a300489c",
   "metadata": {},
   "outputs": [],
   "source": [
    "import torch\n",
    "import torch.nn as nn\n",
    "\n",
    "input_size = 4\n",
    "hidden_size = 4\n",
    "batch_size = 1\n",
    "\n",
    "idx2char = ['e', 'h', 'l', 'o']\n",
    "x_data = [1, 0, 2, 2, 3]\n",
    "y_data = [3, 1, 2, 3, 2]\n",
    "one_hot_lookup = [[1, 0, 0, 0],\n",
    "[0, 1, 0, 0],\n",
    "[0, 0, 1, 0],\n",
    "[0, 0, 0, 1]]\n",
    "x_one_hot = [one_hot_lookup[x] for x in x_data]\n",
    "\n",
    "inputs = torch.Tensor(x_one_hot).view(-1, batch_size, input_size)\n",
    "labels = torch.LongTensor(y_data).view(-1,1)\n"
   ]
  },
  {
   "cell_type": "code",
   "execution_count": 2,
   "id": "499afe2b",
   "metadata": {},
   "outputs": [],
   "source": [
    "class RNNModel(nn.Module):\n",
    "    def __init__(self, input_size, hidden_size, batch_size):\n",
    "        super(RNNModel, self).__init__()\n",
    "        \n",
    "        self.batch_size = batch_size\n",
    "        self.input_size = input_size\n",
    "        self.hidden_size = hidden_size\n",
    "        \n",
    "        self.rnncell = nn.RNNCell(input_size = self.input_size, \n",
    "                                  hidden_size = self.hidden_size)\n",
    "        \n",
    "    def forward(self, x, hidden):\n",
    "        hidden = self.rnncell(x, hidden)\n",
    "        return hidden\n",
    "    \n",
    "    def init_hidden(self):\n",
    "        return torch.zeros(self.batch_size, self.hidden_size)\n",
    "\n",
    "                \n",
    "rnnNet = RNNModel(input_size, hidden_size, batch_size)        "
   ]
  },
  {
   "cell_type": "code",
   "execution_count": 3,
   "id": "32f34f20",
   "metadata": {},
   "outputs": [],
   "source": [
    "criterion = torch.nn.CrossEntropyLoss()\n",
    "optimizer = torch.optim.Adam(rnnNet.parameters(),lr=0.1)"
   ]
  },
  {
   "cell_type": "code",
   "execution_count": 4,
   "id": "e22a3194",
   "metadata": {},
   "outputs": [
    {
     "name": "stdout",
     "output_type": "stream",
     "text": [
      "Predicted string: oooeo, Epoch [1/15] loss=6.7143\n",
      "Predicted string: ooooo, Epoch [2/15] loss=5.3658\n",
      "Predicted string: ooloo, Epoch [3/15] loss=4.5355\n",
      "Predicted string: ohloo, Epoch [4/15] loss=3.9396\n",
      "Predicted string: ohlol, Epoch [5/15] loss=3.5215\n",
      "Predicted string: ohlol, Epoch [6/15] loss=3.1565\n",
      "Predicted string: ohlol, Epoch [7/15] loss=2.8225\n",
      "Predicted string: ohlol, Epoch [8/15] loss=2.5455\n",
      "Predicted string: ohlol, Epoch [9/15] loss=2.3116\n",
      "Predicted string: ohlol, Epoch [10/15] loss=2.1624\n",
      "Predicted string: ohlol, Epoch [11/15] loss=2.0806\n",
      "Predicted string: ohlol, Epoch [12/15] loss=2.0274\n",
      "Predicted string: ohlol, Epoch [13/15] loss=1.9830\n",
      "Predicted string: ohlol, Epoch [14/15] loss=1.9437\n",
      "Predicted string: ohlol, Epoch [15/15] loss=1.9108\n",
      "Predicted string: ohlol, Epoch [16/15] loss=1.8848\n",
      "Predicted string: ohlol, Epoch [17/15] loss=1.8645\n",
      "Predicted string: ohlol, Epoch [18/15] loss=1.8480\n",
      "Predicted string: ohlol, Epoch [19/15] loss=1.8336\n",
      "Predicted string: ohlol, Epoch [20/15] loss=1.8207\n",
      "Predicted string: ohlol, Epoch [21/15] loss=1.8090\n",
      "Predicted string: ohlol, Epoch [22/15] loss=1.7986\n",
      "Predicted string: ohlol, Epoch [23/15] loss=1.7897\n",
      "Predicted string: ohlol, Epoch [24/15] loss=1.7822\n",
      "Predicted string: ohlol, Epoch [25/15] loss=1.7759\n",
      "Predicted string: ohlol, Epoch [26/15] loss=1.7705\n",
      "Predicted string: ohlol, Epoch [27/15] loss=1.7659\n",
      "Predicted string: ohlol, Epoch [28/15] loss=1.7618\n",
      "Predicted string: ohlol, Epoch [29/15] loss=1.7581\n",
      "Predicted string: ohlol, Epoch [30/15] loss=1.7547\n"
     ]
    }
   ],
   "source": [
    "for epoch in range(30):\n",
    "    loss = 0\n",
    "    optimizer.zero_grad()\n",
    "    hidden = rnnNet.init_hidden()\n",
    "    print('Predicted string: ', end='')\n",
    "    for input, label in zip(inputs, labels):\n",
    "        hidden = rnnNet(input, hidden)\n",
    "        loss += criterion(hidden, label)\n",
    "        _, idx = hidden.max(dim=1)\n",
    "        print(idx2char[idx.item()], end='')\n",
    "    loss.backward()\n",
    "    optimizer.step()\n",
    "    print(', Epoch [%d/15] loss=%.4f' % (epoch+1, loss.item()))"
   ]
  },
  {
   "cell_type": "code",
   "execution_count": 1,
   "id": "b5daef5b",
   "metadata": {},
   "outputs": [],
   "source": [
    "import torch\n",
    "\n",
    "# parameters\n",
    "num_class = 4\n",
    "input_size = 4\n",
    "hidden_size = 8\n",
    "embedding_size = 10\n",
    "num_layers = 2\n",
    "batch_size = 1\n",
    "seq_len = 5\n",
    "\n",
    "# 准备数据集\n",
    "idx2char = ['e', 'h', 'l', 'o']\n",
    "x_data = [[1, 0, 2, 2, 3]]  # (batch, seq_len)\n",
    "y_data = [3, 1, 2, 3, 2]    # (batch * seq_len)\n",
    "\n",
    "inputs = torch.LongTensor(x_data)   # Input should be LongTensor: (batchSize, seqLen)\n",
    "labels = torch.LongTensor(y_data)   # Target should be LongTensor: (batchSize * seqLen)"
   ]
  },
  {
   "cell_type": "code",
   "execution_count": 5,
   "id": "ced7a56b",
   "metadata": {},
   "outputs": [],
   "source": [
    "class Model(torch.nn.Module):\n",
    "    def __init__(self):\n",
    "        super(Model, self).__init__()\n",
    "        self.emb = torch.nn.Embedding(input_size, embedding_size)\n",
    "        self.rnn = torch.nn.RNN(input_size=embedding_size, hidden_size=hidden_size, num_layers=num_layers, batch_first=True)\n",
    "        self.fc = torch.nn.Linear(hidden_size, num_class)\n",
    "        \n",
    "    def forward(self, x):\n",
    "        hidden = torch.zeros(num_layers, x.size(0), hidden_size)\n",
    "        x = self.emb(x)\n",
    "        x, _ = self.rnn(x, hidden)\n",
    "        x = self.fc(x)\n",
    "        return x.view(-1, num_class)\n",
    "    \n",
    "\n",
    "class Model(torch.nn.Module):\n",
    "    def __init__(self):\n",
    "        super(Model, self).__init__()\n",
    "        self.emb = torch.nn.Embedding(input_size, embedding_size)\n",
    "        self.rnn = torch.nn.RNN(input_size=embedding_size, hidden_size=hidden_size, num_layers=num_layers, batch_first=True)\n",
    "        self.fc = torch.nn.Linear(hidden_size, num_class)\n",
    "\n",
    "    def forward(self, x):\n",
    "        hidden = torch.zeros(num_layers, x.size(0), hidden_size)\n",
    "        x = self.emb(x)  # (batch, seqLen, embeddingSize)\n",
    "        x, _ = self.rnn(x, hidden)  # 输出(𝒃𝒂𝒕𝒄𝒉𝑺𝒊𝒛𝒆, 𝒔𝒆𝒒𝑳𝒆𝒏, hidden_size)\n",
    "        x = self.fc(x)  # 输出(𝒃𝒂𝒕𝒄𝒉𝑺𝒊𝒛𝒆, 𝒔𝒆𝒒𝑳𝒆𝒏, 𝒏𝒖𝒎𝑪𝒍𝒂𝒔𝒔)\n",
    "        return x.view(-1, num_class)  # reshape to use Cross Entropy: (𝒃𝒂𝒕𝒄𝒉𝑺𝒊𝒛𝒆×𝒔𝒆𝒒𝑳𝒆𝒏, 𝒏𝒖𝒎𝑪𝒍𝒂𝒔𝒔)\n"
   ]
  },
  {
   "cell_type": "code",
   "execution_count": 6,
   "id": "c3fe8f6e",
   "metadata": {},
   "outputs": [],
   "source": [
    "net = Model()\n",
    "criterion = torch.nn.CrossEntropyLoss()\n",
    "optimizer = torch.optim.Adam(net.parameters(), lr=0.05)\n"
   ]
  },
  {
   "cell_type": "code",
   "execution_count": 7,
   "id": "fe108913",
   "metadata": {},
   "outputs": [
    {
     "name": "stdout",
     "output_type": "stream",
     "text": [
      "torch.Size([5, 4])\n",
      "Predicted:  lelee, Epoch [1/15] loss = 1.471\n",
      "torch.Size([5, 4])\n",
      "Predicted:  lolol, Epoch [2/15] loss = 1.083\n",
      "torch.Size([5, 4])\n",
      "Predicted:  lolol, Epoch [3/15] loss = 0.826\n",
      "torch.Size([5, 4])\n",
      "Predicted:  oolol, Epoch [4/15] loss = 0.629\n",
      "torch.Size([5, 4])\n",
      "Predicted:  ohlol, Epoch [5/15] loss = 0.471\n",
      "torch.Size([5, 4])\n",
      "Predicted:  ohlol, Epoch [6/15] loss = 0.342\n",
      "torch.Size([5, 4])\n",
      "Predicted:  ohlol, Epoch [7/15] loss = 0.241\n",
      "torch.Size([5, 4])\n",
      "Predicted:  ohlol, Epoch [8/15] loss = 0.169\n",
      "torch.Size([5, 4])\n",
      "Predicted:  ohlol, Epoch [9/15] loss = 0.119\n",
      "torch.Size([5, 4])\n",
      "Predicted:  ohlol, Epoch [10/15] loss = 0.084\n",
      "torch.Size([5, 4])\n",
      "Predicted:  ohlol, Epoch [11/15] loss = 0.060\n",
      "torch.Size([5, 4])\n",
      "Predicted:  ohlol, Epoch [12/15] loss = 0.043\n",
      "torch.Size([5, 4])\n",
      "Predicted:  ohlol, Epoch [13/15] loss = 0.032\n",
      "torch.Size([5, 4])\n",
      "Predicted:  ohlol, Epoch [14/15] loss = 0.024\n",
      "torch.Size([5, 4])\n",
      "Predicted:  ohlol, Epoch [15/15] loss = 0.018\n"
     ]
    }
   ],
   "source": [
    "for epoch in range(15):\n",
    "    optimizer.zero_grad()\n",
    "    outputs = net(inputs)\n",
    "    loss = criterion(outputs, labels)\n",
    "    loss.backward()\n",
    "    optimizer.step()\n",
    "    print(outputs.shape)\n",
    "    _, idx = outputs.max(dim=1)\n",
    "    idx = idx.data.numpy()\n",
    "    print('Predicted: ', ''.join([idx2char[x] for x in idx]), end='')\n",
    "    print(', Epoch [%d/15] loss = %.3f' % (epoch + 1, loss.item()))\n"
   ]
  },
  {
   "cell_type": "code",
   "execution_count": null,
   "id": "21c4a235",
   "metadata": {},
   "outputs": [],
   "source": []
  }
 ],
 "metadata": {
  "kernelspec": {
   "display_name": "pytorch=gpu",
   "language": "python",
   "name": "pytorch-gpu"
  },
  "language_info": {
   "codemirror_mode": {
    "name": "ipython",
    "version": 3
   },
   "file_extension": ".py",
   "mimetype": "text/x-python",
   "name": "python",
   "nbconvert_exporter": "python",
   "pygments_lexer": "ipython3",
   "version": "3.9.18"
  }
 },
 "nbformat": 4,
 "nbformat_minor": 5
}
